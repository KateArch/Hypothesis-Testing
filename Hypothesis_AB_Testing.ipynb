{
  "nbformat": 4,
  "nbformat_minor": 0,
  "metadata": {
    "colab": {
      "provenance": [],
      "include_colab_link": true
    },
    "kernelspec": {
      "name": "python3",
      "display_name": "Python 3"
    },
    "language_info": {
      "name": "python"
    }
  },
  "cells": [
    {
      "cell_type": "markdown",
      "metadata": {
        "id": "view-in-github",
        "colab_type": "text"
      },
      "source": [
        "<a href=\"https://colab.research.google.com/github/KateArch/Hypothesis-Testing/blob/main/Hypothesis_AB_Testing.ipynb\" target=\"_parent\"><img src=\"https://colab.research.google.com/assets/colab-badge.svg\" alt=\"Open In Colab\"/></a>"
      ]
    },
    {
      "cell_type": "markdown",
      "source": [
        "# Hypothesis Testing & A/B Testing"
      ],
      "metadata": {
        "id": "NEJ64MRBHDJ3"
      }
    },
    {
      "cell_type": "code",
      "execution_count": null,
      "metadata": {
        "id": "u7_JXwho2rV4"
      },
      "outputs": [],
      "source": [
        "import pandas as pd\n",
        "import numpy as np\n",
        "import matplotlib.pyplot as plt\n",
        "import seaborn as sns\n",
        "\n",
        "from scipy.stats import norm, t\n",
        "from statsmodels.stats.weightstats import ztest as ztest\n",
        "from scipy.stats import ttest_1samp, ttest_ind, ttest_ind_from_stats\n",
        "from scipy.stats import chisquare, chi2_contingency, fisher_exact"
      ]
    },
    {
      "cell_type": "markdown",
      "source": [
        "## z-Test"
      ],
      "metadata": {
        "id": "MbCdi8A1Cc7x"
      }
    },
    {
      "cell_type": "code",
      "source": [
        "data = np.array([88, 92, 94, 94, 96, 97, 97, 97, 99, 99,\n",
        "        105, 109, 109, 109, 110, 112, 112, 113, 114, 115])"
      ],
      "metadata": {
        "id": "AqIkcasFCd-Z"
      },
      "execution_count": null,
      "outputs": []
    },
    {
      "cell_type": "code",
      "source": [
        "data.mean()"
      ],
      "metadata": {
        "colab": {
          "base_uri": "https://localhost:8080/"
        },
        "id": "QDYGxC0QVsSO",
        "outputId": "448a8072-1b5f-40c9-8a08-831855a97bf4"
      },
      "execution_count": null,
      "outputs": [
        {
          "output_type": "execute_result",
          "data": {
            "text/plain": [
              "103.05"
            ]
          },
          "metadata": {},
          "execution_count": 3
        }
      ]
    },
    {
      "cell_type": "code",
      "source": [
        "ztest(data,value=100)"
      ],
      "metadata": {
        "colab": {
          "base_uri": "https://localhost:8080/"
        },
        "id": "hQ7k4v_lWIzP",
        "outputId": "d7fd18c3-3659-4f93-8e3d-6e76f2580b54"
      },
      "execution_count": null,
      "outputs": [
        {
          "output_type": "execute_result",
          "data": {
            "text/plain": [
              "(1.5976240527147705, 0.1101266701438426)"
            ]
          },
          "metadata": {},
          "execution_count": 4
        }
      ]
    },
    {
      "cell_type": "code",
      "source": [
        "cityA = np.array([82, 84, 85, 89, 91, 91, 92, 94, 99, 99,\n",
        "         105, 109, 109, 109, 110, 112, 112, 113, 114, 114])\n",
        "\n",
        "cityB = np.array([90, 91, 91, 91, 95, 95, 99, 99, 108, 109,\n",
        "         109, 114, 115, 116, 117, 117, 128, 129, 130, 133])"
      ],
      "metadata": {
        "id": "uPtg7V6QW50p"
      },
      "execution_count": null,
      "outputs": []
    },
    {
      "cell_type": "code",
      "source": [
        "print(cityA.mean())\n",
        "print(cityB.mean())"
      ],
      "metadata": {
        "colab": {
          "base_uri": "https://localhost:8080/"
        },
        "id": "mcn_f1jmXDYk",
        "outputId": "7eecb81b-6617-4944-b29d-7668cea8ad71"
      },
      "execution_count": null,
      "outputs": [
        {
          "output_type": "stream",
          "name": "stdout",
          "text": [
            "100.65\n",
            "108.8\n"
          ]
        }
      ]
    },
    {
      "cell_type": "code",
      "source": [
        "ztest(cityA,cityB,value=0)"
      ],
      "metadata": {
        "colab": {
          "base_uri": "https://localhost:8080/"
        },
        "id": "bZixNIKOXO0n",
        "outputId": "cd0123ea-3db9-4fac-9d69-aa7f0ecf8921"
      },
      "execution_count": null,
      "outputs": [
        {
          "output_type": "execute_result",
          "data": {
            "text/plain": [
              "(-1.9953236073282115, 0.046007596761332065)"
            ]
          },
          "metadata": {},
          "execution_count": 7
        }
      ]
    },
    {
      "cell_type": "markdown",
      "source": [
        "# t-Test"
      ],
      "metadata": {
        "id": "wLC48qI6Cery"
      }
    },
    {
      "cell_type": "code",
      "source": [
        "ttest_1samp(data,popmean=100)"
      ],
      "metadata": {
        "colab": {
          "base_uri": "https://localhost:8080/"
        },
        "id": "ZVUGKmspCgcT",
        "outputId": "0492f12a-df61-4d4a-8152-f31de5cfdee5"
      },
      "execution_count": null,
      "outputs": [
        {
          "output_type": "execute_result",
          "data": {
            "text/plain": [
              "TtestResult(statistic=1.5976240527147707, pvalue=0.12662462536124375, df=19)"
            ]
          },
          "metadata": {},
          "execution_count": 8
        }
      ]
    },
    {
      "cell_type": "code",
      "source": [
        "data = np.array([88, 92, 94, 94, 96, 97, 97, 97, 99, 99,\n",
        "        105, 109, 109, 109, 110, 112, 112, 113, 114, 115])\n",
        "\n",
        "ttest_1samp(data,popmean=100)"
      ],
      "metadata": {
        "colab": {
          "base_uri": "https://localhost:8080/"
        },
        "id": "0m9-UEbFexun",
        "outputId": "a150d063-3bdb-467b-c7ea-00c1dc870103"
      },
      "execution_count": null,
      "outputs": [
        {
          "output_type": "execute_result",
          "data": {
            "text/plain": [
              "TtestResult(statistic=1.5976240527147707, pvalue=0.12662462536124375, df=19)"
            ]
          },
          "metadata": {},
          "execution_count": 9
        }
      ]
    },
    {
      "cell_type": "code",
      "source": [
        "cityA = np.array([82, 84, 85, 89, 91, 91, 92, 94, 99, 99,\n",
        "         105, 109, 109, 109, 110, 112, 112, 113, 114, 114])\n",
        "\n",
        "cityB = np.array([90, 91, 91, 91, 95, 95, 99, 99, 108, 109,\n",
        "         109, 114, 115, 116, 117, 117, 128, 129, 130, 133])\n",
        "\n",
        "ttest_ind(cityA,cityB)"
      ],
      "metadata": {
        "colab": {
          "base_uri": "https://localhost:8080/"
        },
        "id": "4X-Cihfff7F1",
        "outputId": "62b353b0-ca98-4f71-cc69-c1b683c44a94"
      },
      "execution_count": null,
      "outputs": [
        {
          "output_type": "execute_result",
          "data": {
            "text/plain": [
              "TtestResult(statistic=-1.9953236073282115, pvalue=0.05321388037191098, df=38.0)"
            ]
          },
          "metadata": {},
          "execution_count": 10
        }
      ]
    },
    {
      "cell_type": "code",
      "source": [
        "ttest_ind(cityA,cityB,alternative=\"less\")"
      ],
      "metadata": {
        "colab": {
          "base_uri": "https://localhost:8080/"
        },
        "id": "BhcR9-EugxhA",
        "outputId": "c45d5b6c-ecd8-4821-c075-98f6f241c083"
      },
      "execution_count": null,
      "outputs": [
        {
          "output_type": "execute_result",
          "data": {
            "text/plain": [
              "TtestResult(statistic=-1.9953236073282115, pvalue=0.02660694018595549, df=38.0)"
            ]
          },
          "metadata": {},
          "execution_count": 11
        }
      ]
    },
    {
      "cell_type": "code",
      "source": [
        "ttest_ind(cityA,cityB,alternative=\"greater\")"
      ],
      "metadata": {
        "colab": {
          "base_uri": "https://localhost:8080/"
        },
        "id": "wOeK1quwhLZR",
        "outputId": "47b9fe06-15bb-4e6f-aab0-fca9107fd2b0"
      },
      "execution_count": null,
      "outputs": [
        {
          "output_type": "execute_result",
          "data": {
            "text/plain": [
              "TtestResult(statistic=-1.9953236073282115, pvalue=0.9733930598140444, df=38.0)"
            ]
          },
          "metadata": {},
          "execution_count": 12
        }
      ]
    },
    {
      "cell_type": "markdown",
      "source": [
        "## $χ^2$-Test (chi-Square-Test)"
      ],
      "metadata": {
        "id": "OfViaBewChPg"
      }
    },
    {
      "cell_type": "code",
      "source": [
        "# Input contigency table (Crosstab): \"What's you favorite day of the week\"?\n",
        "workers = [10,15,20,15,70,90,45]\n",
        "holidayers = [75,65,70,90,80,85,85]\n",
        "\n",
        "chi2_contingency(np.array([[10,15,20,15,70,90,45],[75,65,70,90,80,85,85]]).T)\n",
        "\n",
        "#Hint: Not a good example, original scenario does not lead to this contigency table"
      ],
      "metadata": {
        "colab": {
          "base_uri": "https://localhost:8080/"
        },
        "id": "F0noCEjZC9ZC",
        "outputId": "3cc851b1-e8c3-41ef-c1bd-acf549ccc05b"
      },
      "execution_count": null,
      "outputs": [
        {
          "output_type": "execute_result",
          "data": {
            "text/plain": [
              "Chi2ContingencyResult(statistic=86.31476058086074, pvalue=1.7627355518092722e-16, dof=6, expected_freq=array([[ 27.63803681,  57.36196319],\n",
              "       [ 26.01226994,  53.98773006],\n",
              "       [ 29.26380368,  60.73619632],\n",
              "       [ 34.14110429,  70.85889571],\n",
              "       [ 48.77300613, 101.22699387],\n",
              "       [ 56.90184049, 118.09815951],\n",
              "       [ 42.26993865,  87.73006135]]))"
            ]
          },
          "metadata": {},
          "execution_count": 13
        }
      ]
    },
    {
      "cell_type": "code",
      "source": [],
      "metadata": {
        "id": "COEa-gLkuYyV"
      },
      "execution_count": null,
      "outputs": []
    }
  ]
}